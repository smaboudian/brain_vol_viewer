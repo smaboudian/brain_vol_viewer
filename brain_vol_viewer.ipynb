{
 "cells": [
  {
   "cell_type": "code",
   "execution_count": 1,
   "id": "9123e82f",
   "metadata": {},
   "outputs": [],
   "source": [
    "from brain_vol_funcs import *"
   ]
  },
  {
   "cell_type": "code",
   "execution_count": 5,
   "id": "d7b5d897",
   "metadata": {},
   "outputs": [],
   "source": [
    "# Define filepath variables \n",
    "t1_filepath = 'data/sub01/T1.nii.gz'  # Replace with your T1 NIfTI file path\n",
    "aparc_aseg_filepath = 'data/sub01/aparc+aseg.mgz'  # Replace with your aparc+aseg file path\n",
    "lut_filepath = 'data/FreeSurferColorLUT_2.txt'  # Replace with the path to your LUT file\n",
    "\n",
    "# Define custom labels and colors \n",
    "custom_labels_dict = {\n",
    "    'data/sub01/lh.cortex_sulc_sulci_noOverlap_final.nii.gz': (1.0, 0.0, 0.0),  # Red\n",
    "    'data/sub01/lh.cortex_sulc_gyri_noOverlap_final.nii.gz': (0.0, 0.0, 1.0),  # Blue\n",
    "}\n"
   ]
  },
  {
   "cell_type": "code",
   "execution_count": 10,
   "id": "25913286",
   "metadata": {},
   "outputs": [
    {
     "data": {
      "application/vnd.jupyter.widget-view+json": {
       "model_id": "6d08575029f74e39a47cd11383b72f34",
       "version_major": 2,
       "version_minor": 0
      },
      "text/plain": [
       "interactive(children=(IntSlider(value=0, description='slice_num_axial', max=255), IntSlider(value=0, descripti…"
      ]
     },
     "metadata": {},
     "output_type": "display_data"
    }
   ],
   "source": [
    "# Load display to scroll through slices of the MRI with overlays, in all 3 views\n",
    "scroll_slices_3views(alpha=0.5, \n",
    "              t1_file=t1_filepath, \n",
    "              aparc_aseg_file=aparc_aseg_filepath, \n",
    "              lut_file=lut_filepath, \n",
    "              custom_labels={},\n",
    "              #custom_labels=custom_labels_dict,\n",
    "              display_aparc=True)  # Set display_aparc to False to hide aparc+aseg overlay\n"
   ]
  },
  {
   "cell_type": "code",
   "execution_count": 8,
   "id": "7cefd517",
   "metadata": {},
   "outputs": [
    {
     "data": {
      "application/vnd.jupyter.widget-view+json": {
       "model_id": "9527d851ba7a4f2a9ccec6fb79732bb8",
       "version_major": 2,
       "version_minor": 0
      },
      "text/plain": [
       "interactive(children=(IntSlider(value=128, description='slice_num', max=384, min=-128), Output()), _dom_classe…"
      ]
     },
     "metadata": {},
     "output_type": "display_data"
    }
   ],
   "source": [
    "# Display to scroll through the slices of the MRI with overlays, in all 1 view (specified)\n",
    "scroll_slices_1view(axis='coronal', alpha=0.5, \n",
    "              t1_file=t1_filepath, \n",
    "              aparc_aseg_file=aparc_aseg_filepath, \n",
    "              lut_file=lut_filepath, \n",
    "              custom_labels={}, \n",
    "              #custom_labels=custom_labels_dict,\n",
    "              display_aparc=True)  # Set display_aparc to False to hide aparc+aseg overlay\n"
   ]
  },
  {
   "cell_type": "code",
   "execution_count": null,
   "id": "814b7280",
   "metadata": {},
   "outputs": [],
   "source": []
  },
  {
   "cell_type": "code",
   "execution_count": null,
   "id": "f228f892",
   "metadata": {},
   "outputs": [],
   "source": []
  },
  {
   "cell_type": "code",
   "execution_count": null,
   "id": "507c56ee",
   "metadata": {},
   "outputs": [],
   "source": []
  },
  {
   "cell_type": "code",
   "execution_count": null,
   "id": "631eee5e",
   "metadata": {},
   "outputs": [],
   "source": []
  },
  {
   "cell_type": "code",
   "execution_count": null,
   "id": "ed8b44bb",
   "metadata": {},
   "outputs": [],
   "source": []
  },
  {
   "cell_type": "code",
   "execution_count": null,
   "id": "0546efcc",
   "metadata": {},
   "outputs": [],
   "source": []
  }
 ],
 "metadata": {
  "kernelspec": {
   "display_name": "Python (nilearn_env)",
   "language": "python",
   "name": "nilearn_env"
  },
  "language_info": {
   "codemirror_mode": {
    "name": "ipython",
    "version": 3
   },
   "file_extension": ".py",
   "mimetype": "text/x-python",
   "name": "python",
   "nbconvert_exporter": "python",
   "pygments_lexer": "ipython3",
   "version": "3.9.13"
  }
 },
 "nbformat": 4,
 "nbformat_minor": 5
}
